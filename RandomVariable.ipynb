{
 "cells": [
  {
   "cell_type": "markdown",
   "id": "fad2768f",
   "metadata": {},
   "source": [
    "# Binomal Distribution\n",
    "Discrete probability distribution, A random variable X is said to follow a binomial distribution when:\n",
    "1) Random variable have success and failure.<br />\n",
    "2) Objective is to find probability of getting x successes out of n trials.<br />\n",
    "3) Probability of success is p and thus the probability of failure is 1 - p.<br />\n",
    "4) Probability p is constant and does not change between trials."
   ]
  },
  {
   "cell_type": "markdown",
   "id": "6302d39f",
   "metadata": {},
   "source": [
    "Example: \n",
    "FTO is an e commerce company,it is observed  10% of their customer returns the items purchased.\n",
    "On a specific day 20 customers purchased items for FTO.\n",
    "\n",
    "1. Probability that exactly 5 customers will return the items."
   ]
  },
  {
   "cell_type": "code",
   "execution_count": 3,
   "id": "0432e1fc",
   "metadata": {},
   "outputs": [
    {
     "name": "stdout",
     "output_type": "stream",
     "text": [
      "Requirement already satisfied: scipy in c:\\users\\harshitha\\anaconda3\\lib\\site-packages (1.7.1)\n",
      "Requirement already satisfied: numpy<1.23.0,>=1.16.5 in c:\\users\\harshitha\\anaconda3\\lib\\site-packages (from scipy) (1.20.3)\n"
     ]
    }
   ],
   "source": [
    "!pip install scipy"
   ]
  },
  {
   "cell_type": "code",
   "execution_count": 15,
   "id": "68a8b889",
   "metadata": {},
   "outputs": [
    {
     "data": {
      "text/plain": [
       "0.28517980706429846"
      ]
     },
     "execution_count": 15,
     "metadata": {},
     "output_type": "execute_result"
    }
   ],
   "source": [
    "%matplotlib inline\n",
    "from scipy import stats\n",
    "import pandas as pd\n",
    "import matplotlib.pyplot as plt\n",
    "import seaborn as sn\n",
    "\n",
    "stats.binom.pmf(5,20,0.1)\n",
    "stats.binom.pmf(2,20,0.1)"
   ]
  },
  {
   "cell_type": "code",
   "execution_count": 11,
   "id": "4980c09e",
   "metadata": {},
   "outputs": [
    {
     "data": {
      "text/html": [
       "<div>\n",
       "<style scoped>\n",
       "    .dataframe tbody tr th:only-of-type {\n",
       "        vertical-align: middle;\n",
       "    }\n",
       "\n",
       "    .dataframe tbody tr th {\n",
       "        vertical-align: top;\n",
       "    }\n",
       "\n",
       "    .dataframe thead th {\n",
       "        text-align: right;\n",
       "    }\n",
       "</style>\n",
       "<table border=\"1\" class=\"dataframe\">\n",
       "  <thead>\n",
       "    <tr style=\"text-align: right;\">\n",
       "      <th></th>\n",
       "      <th>success_probability</th>\n",
       "      <th>pmf</th>\n",
       "    </tr>\n",
       "  </thead>\n",
       "  <tbody>\n",
       "    <tr>\n",
       "      <th>0</th>\n",
       "      <td>0</td>\n",
       "      <td>1.215767e-01</td>\n",
       "    </tr>\n",
       "    <tr>\n",
       "      <th>1</th>\n",
       "      <td>1</td>\n",
       "      <td>2.701703e-01</td>\n",
       "    </tr>\n",
       "    <tr>\n",
       "      <th>2</th>\n",
       "      <td>2</td>\n",
       "      <td>2.851798e-01</td>\n",
       "    </tr>\n",
       "    <tr>\n",
       "      <th>3</th>\n",
       "      <td>3</td>\n",
       "      <td>1.901199e-01</td>\n",
       "    </tr>\n",
       "    <tr>\n",
       "      <th>4</th>\n",
       "      <td>4</td>\n",
       "      <td>8.977883e-02</td>\n",
       "    </tr>\n",
       "    <tr>\n",
       "      <th>5</th>\n",
       "      <td>5</td>\n",
       "      <td>3.192136e-02</td>\n",
       "    </tr>\n",
       "    <tr>\n",
       "      <th>6</th>\n",
       "      <td>6</td>\n",
       "      <td>8.867045e-03</td>\n",
       "    </tr>\n",
       "    <tr>\n",
       "      <th>7</th>\n",
       "      <td>7</td>\n",
       "      <td>1.970454e-03</td>\n",
       "    </tr>\n",
       "    <tr>\n",
       "      <th>8</th>\n",
       "      <td>8</td>\n",
       "      <td>3.557765e-04</td>\n",
       "    </tr>\n",
       "    <tr>\n",
       "      <th>9</th>\n",
       "      <td>9</td>\n",
       "      <td>5.270763e-05</td>\n",
       "    </tr>\n",
       "    <tr>\n",
       "      <th>10</th>\n",
       "      <td>10</td>\n",
       "      <td>6.442043e-06</td>\n",
       "    </tr>\n",
       "    <tr>\n",
       "      <th>11</th>\n",
       "      <td>11</td>\n",
       "      <td>6.507115e-07</td>\n",
       "    </tr>\n",
       "    <tr>\n",
       "      <th>12</th>\n",
       "      <td>12</td>\n",
       "      <td>5.422595e-08</td>\n",
       "    </tr>\n",
       "    <tr>\n",
       "      <th>13</th>\n",
       "      <td>13</td>\n",
       "      <td>3.707758e-09</td>\n",
       "    </tr>\n",
       "    <tr>\n",
       "      <th>14</th>\n",
       "      <td>14</td>\n",
       "      <td>2.059865e-10</td>\n",
       "    </tr>\n",
       "    <tr>\n",
       "      <th>15</th>\n",
       "      <td>15</td>\n",
       "      <td>9.154957e-12</td>\n",
       "    </tr>\n",
       "    <tr>\n",
       "      <th>16</th>\n",
       "      <td>16</td>\n",
       "      <td>3.178805e-13</td>\n",
       "    </tr>\n",
       "    <tr>\n",
       "      <th>17</th>\n",
       "      <td>17</td>\n",
       "      <td>8.310600e-15</td>\n",
       "    </tr>\n",
       "    <tr>\n",
       "      <th>18</th>\n",
       "      <td>18</td>\n",
       "      <td>1.539000e-16</td>\n",
       "    </tr>\n",
       "    <tr>\n",
       "      <th>19</th>\n",
       "      <td>19</td>\n",
       "      <td>1.800000e-18</td>\n",
       "    </tr>\n",
       "  </tbody>\n",
       "</table>\n",
       "</div>"
      ],
      "text/plain": [
       "    success_probability           pmf\n",
       "0                     0  1.215767e-01\n",
       "1                     1  2.701703e-01\n",
       "2                     2  2.851798e-01\n",
       "3                     3  1.901199e-01\n",
       "4                     4  8.977883e-02\n",
       "5                     5  3.192136e-02\n",
       "6                     6  8.867045e-03\n",
       "7                     7  1.970454e-03\n",
       "8                     8  3.557765e-04\n",
       "9                     9  5.270763e-05\n",
       "10                   10  6.442043e-06\n",
       "11                   11  6.507115e-07\n",
       "12                   12  5.422595e-08\n",
       "13                   13  3.707758e-09\n",
       "14                   14  2.059865e-10\n",
       "15                   15  9.154957e-12\n",
       "16                   16  3.178805e-13\n",
       "17                   17  8.310600e-15\n",
       "18                   18  1.539000e-16\n",
       "19                   19  1.800000e-18"
      ]
     },
     "execution_count": 11,
     "metadata": {},
     "output_type": "execute_result"
    }
   ],
   "source": [
    "# range(0,20) returns all values from 0 to 20 excluding 21\n",
    "pmf_df = pd.DataFrame({'success_probability':range(0,20),\n",
    "                        'pmf': list(stats.binom.pmf(range(0,20),20,0.1))   \n",
    "})\n",
    "\n",
    "pmf_df.head(20)"
   ]
  },
  {
   "cell_type": "markdown",
   "id": "6b1f72fe",
   "metadata": {},
   "source": [
    "Data visualization: "
   ]
  },
  {
   "cell_type": "code",
   "execution_count": 23,
   "id": "be7d6e19",
   "metadata": {},
   "outputs": [
    {
     "data": {
      "image/png": "[encoded data removed]",
      "text/plain": [
       "<Figure size 432x288 with 1 Axes>"
      ]
     },
     "metadata": {
      "needs_background": "light"
     },
     "output_type": "display_data"
    }
   ],
   "source": [
    "sn.barplot(x=pmf_df.success_probability,y = pmf_df.pmf)\n",
    "plt.ylabel('pmf')\n",
    "plt.xlabel('Number of items returned');"
   ]
  },
  {
   "cell_type": "markdown",
   "id": "96fa5a0b",
   "metadata": {},
   "source": [
    "2) Probability that a maximum of 5 customres will return the items."
   ]
  },
  {
   "cell_type": "code",
   "execution_count": 24,
   "id": "e25fd7a4",
   "metadata": {},
   "outputs": [
    {
     "data": {
      "text/plain": [
       "0.988746865835491"
      ]
     },
     "execution_count": 24,
     "metadata": {},
     "output_type": "execute_result"
    }
   ],
   "source": [
    "stats.binom.cdf(5,20,0.1)"
   ]
  },
  {
   "cell_type": "markdown",
   "id": "328fe0db",
   "metadata": {},
   "source": [
    "3) Probability that more than 5 customers will return the items purchased by them"
   ]
  },
  {
   "cell_type": "markdown",
   "id": "cfb5f0c2",
   "metadata": {},
   "source": [
    "Total of all the probabilities will always be equal to 1 and we got the CDF( cumulative distributive  function) \n",
    "of max of 5 customers in step 2.\n",
    "solution for this is 1 - CDF above value"
   ]
  },
  {
   "cell_type": "code",
   "execution_count": 25,
   "id": "1418c5af",
   "metadata": {},
   "outputs": [
    {
     "data": {
      "text/plain": [
       "0.011253134164509015"
      ]
     },
     "execution_count": 25,
     "metadata": {},
     "output_type": "execute_result"
    }
   ],
   "source": [
    "1- stats.binom.cdf(5,20,0.1)\n"
   ]
  },
  {
   "cell_type": "code",
   "execution_count": 26,
   "id": "5f559423",
   "metadata": {},
   "outputs": [
    {
     "name": "stdout",
     "output_type": "stream",
     "text": [
      "Average :  2.0  Variance :  1.8\n"
     ]
    }
   ],
   "source": [
    "mean, variance = stats.binom.stats(20,0.1)\n",
    "print(\"Average : \", mean,\" Variance : \",variance)"
   ]
  },
  {
   "cell_type": "markdown",
   "id": "22379ce2",
   "metadata": {},
   "source": [
    "# Poisson distribution\n",
    "No: of events that occoured over a period of time or space. ex: cancellation of orders by customer."
   ]
  },
  {
   "cell_type": "markdown",
   "id": "738c74c6",
   "metadata": {},
   "source": [
    "Example:\n",
    "Calls arriving at a call center follows a Poission dist at 10 calls per hours\n",
    "1) Calculate probability that a maximum of  5 calls will arrives at the call center."
   ]
  },
  {
   "cell_type": "code",
   "execution_count": 27,
   "id": "e86bee65",
   "metadata": {},
   "outputs": [
    {
     "data": {
      "text/plain": [
       "0.06708596287903189"
      ]
     },
     "execution_count": 27,
     "metadata": {},
     "output_type": "execute_result"
    }
   ],
   "source": [
    "stats.poisson.cdf(5,10)"
   ]
  },
  {
   "cell_type": "markdown",
   "id": "8452ad5e",
   "metadata": {},
   "source": [
    "2) Calculate the probability that the number of calls over 3 hours periods will exceed 30 "
   ]
  },
  {
   "cell_type": "code",
   "execution_count": 28,
   "id": "6ba3c095",
   "metadata": {},
   "outputs": [
    {
     "data": {
      "text/plain": [
       "0.45164848742208863"
      ]
     },
     "execution_count": 28,
     "metadata": {},
     "output_type": "execute_result"
    }
   ],
   "source": [
    " # first parameter is 3 * 10 mean number of call over 3 hours( per hour is 10 calls)\n",
    " # second parameter is \n",
    "1 - stats.poisson.cdf(30,30)"
   ]
  },
  {
   "cell_type": "markdown",
   "id": "18823c6f",
   "metadata": {},
   "source": [
    "Data visualization "
   ]
  },
  {
   "cell_type": "code",
   "execution_count": 31,
   "id": "9d3167f8",
   "metadata": {},
   "outputs": [
    {
     "data": {
      "text/html": [
       "<div>\n",
       "<style scoped>\n",
       "    .dataframe tbody tr th:only-of-type {\n",
       "        vertical-align: middle;\n",
       "    }\n",
       "\n",
       "    .dataframe tbody tr th {\n",
       "        vertical-align: top;\n",
       "    }\n",
       "\n",
       "    .dataframe thead th {\n",
       "        text-align: right;\n",
       "    }\n",
       "</style>\n",
       "<table border=\"1\" class=\"dataframe\">\n",
       "  <thead>\n",
       "    <tr style=\"text-align: right;\">\n",
       "      <th></th>\n",
       "      <th>success</th>\n",
       "      <th>pmf</th>\n",
       "    </tr>\n",
       "  </thead>\n",
       "  <tbody>\n",
       "    <tr>\n",
       "      <th>0</th>\n",
       "      <td>0</td>\n",
       "      <td>4.539993e-05</td>\n",
       "    </tr>\n",
       "    <tr>\n",
       "      <th>1</th>\n",
       "      <td>1</td>\n",
       "      <td>4.539993e-04</td>\n",
       "    </tr>\n",
       "    <tr>\n",
       "      <th>2</th>\n",
       "      <td>2</td>\n",
       "      <td>2.269996e-03</td>\n",
       "    </tr>\n",
       "    <tr>\n",
       "      <th>3</th>\n",
       "      <td>3</td>\n",
       "      <td>7.566655e-03</td>\n",
       "    </tr>\n",
       "    <tr>\n",
       "      <th>4</th>\n",
       "      <td>4</td>\n",
       "      <td>1.891664e-02</td>\n",
       "    </tr>\n",
       "    <tr>\n",
       "      <th>5</th>\n",
       "      <td>5</td>\n",
       "      <td>3.783327e-02</td>\n",
       "    </tr>\n",
       "    <tr>\n",
       "      <th>6</th>\n",
       "      <td>6</td>\n",
       "      <td>6.305546e-02</td>\n",
       "    </tr>\n",
       "    <tr>\n",
       "      <th>7</th>\n",
       "      <td>7</td>\n",
       "      <td>9.007923e-02</td>\n",
       "    </tr>\n",
       "    <tr>\n",
       "      <th>8</th>\n",
       "      <td>8</td>\n",
       "      <td>1.125990e-01</td>\n",
       "    </tr>\n",
       "    <tr>\n",
       "      <th>9</th>\n",
       "      <td>9</td>\n",
       "      <td>1.251100e-01</td>\n",
       "    </tr>\n",
       "    <tr>\n",
       "      <th>10</th>\n",
       "      <td>10</td>\n",
       "      <td>1.251100e-01</td>\n",
       "    </tr>\n",
       "    <tr>\n",
       "      <th>11</th>\n",
       "      <td>11</td>\n",
       "      <td>1.137364e-01</td>\n",
       "    </tr>\n",
       "    <tr>\n",
       "      <th>12</th>\n",
       "      <td>12</td>\n",
       "      <td>9.478033e-02</td>\n",
       "    </tr>\n",
       "    <tr>\n",
       "      <th>13</th>\n",
       "      <td>13</td>\n",
       "      <td>7.290795e-02</td>\n",
       "    </tr>\n",
       "    <tr>\n",
       "      <th>14</th>\n",
       "      <td>14</td>\n",
       "      <td>5.207710e-02</td>\n",
       "    </tr>\n",
       "    <tr>\n",
       "      <th>15</th>\n",
       "      <td>15</td>\n",
       "      <td>3.471807e-02</td>\n",
       "    </tr>\n",
       "    <tr>\n",
       "      <th>16</th>\n",
       "      <td>16</td>\n",
       "      <td>2.169879e-02</td>\n",
       "    </tr>\n",
       "    <tr>\n",
       "      <th>17</th>\n",
       "      <td>17</td>\n",
       "      <td>1.276400e-02</td>\n",
       "    </tr>\n",
       "    <tr>\n",
       "      <th>18</th>\n",
       "      <td>18</td>\n",
       "      <td>7.091109e-03</td>\n",
       "    </tr>\n",
       "    <tr>\n",
       "      <th>19</th>\n",
       "      <td>19</td>\n",
       "      <td>3.732163e-03</td>\n",
       "    </tr>\n",
       "    <tr>\n",
       "      <th>20</th>\n",
       "      <td>20</td>\n",
       "      <td>1.866081e-03</td>\n",
       "    </tr>\n",
       "    <tr>\n",
       "      <th>21</th>\n",
       "      <td>21</td>\n",
       "      <td>8.886101e-04</td>\n",
       "    </tr>\n",
       "    <tr>\n",
       "      <th>22</th>\n",
       "      <td>22</td>\n",
       "      <td>4.039137e-04</td>\n",
       "    </tr>\n",
       "    <tr>\n",
       "      <th>23</th>\n",
       "      <td>23</td>\n",
       "      <td>1.756147e-04</td>\n",
       "    </tr>\n",
       "    <tr>\n",
       "      <th>24</th>\n",
       "      <td>24</td>\n",
       "      <td>7.317277e-05</td>\n",
       "    </tr>\n",
       "    <tr>\n",
       "      <th>25</th>\n",
       "      <td>25</td>\n",
       "      <td>2.926911e-05</td>\n",
       "    </tr>\n",
       "    <tr>\n",
       "      <th>26</th>\n",
       "      <td>26</td>\n",
       "      <td>1.125735e-05</td>\n",
       "    </tr>\n",
       "    <tr>\n",
       "      <th>27</th>\n",
       "      <td>27</td>\n",
       "      <td>4.169389e-06</td>\n",
       "    </tr>\n",
       "    <tr>\n",
       "      <th>28</th>\n",
       "      <td>28</td>\n",
       "      <td>1.489067e-06</td>\n",
       "    </tr>\n",
       "    <tr>\n",
       "      <th>29</th>\n",
       "      <td>29</td>\n",
       "      <td>5.134715e-07</td>\n",
       "    </tr>\n",
       "  </tbody>\n",
       "</table>\n",
       "</div>"
      ],
      "text/plain": [
       "    success           pmf\n",
       "0         0  4.539993e-05\n",
       "1         1  4.539993e-04\n",
       "2         2  2.269996e-03\n",
       "3         3  7.566655e-03\n",
       "4         4  1.891664e-02\n",
       "5         5  3.783327e-02\n",
       "6         6  6.305546e-02\n",
       "7         7  9.007923e-02\n",
       "8         8  1.125990e-01\n",
       "9         9  1.251100e-01\n",
       "10       10  1.251100e-01\n",
       "11       11  1.137364e-01\n",
       "12       12  9.478033e-02\n",
       "13       13  7.290795e-02\n",
       "14       14  5.207710e-02\n",
       "15       15  3.471807e-02\n",
       "16       16  2.169879e-02\n",
       "17       17  1.276400e-02\n",
       "18       18  7.091109e-03\n",
       "19       19  3.732163e-03\n",
       "20       20  1.866081e-03\n",
       "21       21  8.886101e-04\n",
       "22       22  4.039137e-04\n",
       "23       23  1.756147e-04\n",
       "24       24  7.317277e-05\n",
       "25       25  2.926911e-05\n",
       "26       26  1.125735e-05\n",
       "27       27  4.169389e-06\n",
       "28       28  1.489067e-06\n",
       "29       29  5.134715e-07"
      ]
     },
     "execution_count": 31,
     "metadata": {},
     "output_type": "execute_result"
    }
   ],
   "source": [
    "pmf_df = pd.DataFrame({\"success\": range(0,30),\n",
    "                      \"pmf\": list(stats.poisson.pmf(range(0,30),10))})\n",
    "pmf_df"
   ]
  },
  {
   "cell_type": "code",
   "execution_count": 33,
   "id": "3278ad5b",
   "metadata": {},
   "outputs": [
    {
     "data": {
      "image/png": "[encoded data removed]",
      "text/plain": [
       "<Figure size 432x288 with 1 Axes>"
      ]
     },
     "metadata": {
      "needs_background": "light"
     },
     "output_type": "display_data"
    }
   ],
   "source": [
    "sn.barplot(x = pmf_df.success,y=pmf_df.pmf)\n",
    "plt.ylabel('pmf')\n",
    "plt.xlabel('Number of calls recived');"
   ]
  },
  {
   "cell_type": "markdown",
   "id": "0aeb6acd",
   "metadata": {},
   "source": [
    "# Exponential distribution\n",
    "This is a single parameter continuous distribution that is traditionally used for modeling time-to-failure of electronic components."
   ]
  },
  {
   "cell_type": "markdown",
   "id": "2a5f80d2",
   "metadata": {},
   "source": [
    "Time-of-failure of an avionic system follows an exponential dist with a mean time between failure (MTBF) of 1000 hours.\n",
    "\n",
    "1) Calcualte the probability that the system will fail before 1000 hours"
   ]
  },
  {
   "cell_type": "code",
   "execution_count": 34,
   "id": "8f9427f4",
   "metadata": {},
   "outputs": [
    {
     "data": {
      "text/plain": [
       "0.6321201909489326"
      ]
     },
     "execution_count": 34,
     "metadata": {},
     "output_type": "execute_result"
    }
   ],
   "source": [
    "stats.expon.cdf(1000, loc=1/1000,scale = 1000)"
   ]
  },
  {
   "cell_type": "markdown",
   "id": "0f959a08",
   "metadata": {},
   "source": [
    "2) Calcualte the probability that it will not fail up to 2000 hours"
   ]
  },
  {
   "cell_type": "code",
   "execution_count": 35,
   "id": "a0f0a2ac",
   "metadata": {},
   "outputs": [
    {
     "data": {
      "text/plain": [
       "0.13533541857196352"
      ]
     },
     "execution_count": 35,
     "metadata": {},
     "output_type": "execute_result"
    }
   ],
   "source": [
    "1- stats.expon.cdf(2000, loc = 1/1000, scale = 1000)"
   ]
  },
  {
   "cell_type": "markdown",
   "id": "92b777e6",
   "metadata": {},
   "source": [
    "3) Calculate the time by which  10% of system will fail (i.e., calculate P10 life) <br/>\n",
    "This can be calculated by ppf(percentage of point function) and is an inverse of CDF."
   ]
  },
  {
   "cell_type": "code",
   "execution_count": 37,
   "id": "591bc638",
   "metadata": {},
   "outputs": [
    {
     "name": "stdout",
     "output_type": "stream",
     "text": [
      "This is, by  105.36151565782632  hours, 10% of system will fail.\n"
     ]
    }
   ],
   "source": [
    "time_val = stats.expon.ppf(0.1, loc = 1/1000,scale = 1000)\n",
    "print(\"This is, by \", time_val, \" hours, 10% of system will fail.\")"
   ]
  },
  {
   "cell_type": "code",
   "execution_count": 48,
   "id": "66df132a",
   "metadata": {},
   "outputs": [
    {
     "data": {
      "text/plain": [
       "Text(0.5, 0, 'Time of failure')"
      ]
     },
     "execution_count": 48,
     "metadata": {},
     "output_type": "execute_result"
    },
    {
     "data": {
      "image/png": "[encoded data removed]",
      "text/plain": [
       "<Figure size 720x288 with 1 Axes>"
      ]
     },
     "metadata": {
      "needs_background": "light"
     },
     "output_type": "display_data"
    }
   ],
   "source": [
    "plt.figure(figsize=(10,4))\n",
    "pdf_df = pd.DataFrame({\"success\":range(0,5000,100),\n",
    "                      \"pdf\": list(stats.expon.pdf(range(0,5000,100), loc = 1/1000, scale = 1000))})\n",
    "sn.barplot(x= pdf_df.success,y = pdf_df.pdf)\n",
    "plt.xticks(rotation = 90)\n",
    "plt.xlabel('Time of failure')"
   ]
  },
  {
   "cell_type": "code",
   "execution_count": 50,
   "id": "94df22d8",
   "metadata": {},
   "outputs": [
    {
     "data": {
      "text/plain": [
       "'C:\\\\Users\\\\Harshitha'"
      ]
     },
     "execution_count": 50,
     "metadata": {},
     "output_type": "execute_result"
    }
   ],
   "source": [
    "import os\n",
    "current_path = os.getcwd()\n",
    "current_path"
   ]
  },
  {
   "cell_type": "code",
   "execution_count": null,
   "id": "3ef4449b",
   "metadata": {},
   "outputs": [],
   "source": []
  }
 ],
 "metadata": {
  "kernelspec": {
   "display_name": "Python 3 (ipykernel)",
   "language": "python",
   "name": "python3"
  },
  "language_info": {
   "codemirror_mode": {
    "name": "ipython",
    "version": 3
   },
   "file_extension": ".py",
   "mimetype": "text/x-python",
   "name": "python",
   "nbconvert_exporter": "python",
   "pygments_lexer": "ipython3",
   "version": "3.9.7"
  }
 },
 "nbformat": 4,
 "nbformat_minor": 5
}
